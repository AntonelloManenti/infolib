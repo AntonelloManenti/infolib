{
 "cells": [
  {
   "cell_type": "code",
   "execution_count": 1,
   "metadata": {
    "colab": {
     "base_uri": "https://localhost:8080/"
    },
    "executionInfo": {
     "elapsed": 24175,
     "status": "ok",
     "timestamp": 1641723275575,
     "user": {
      "displayName": "Antonello Manenti",
      "photoUrl": "https://lh3.googleusercontent.com/a/default-user=s64",
      "userId": "17495113583668482416"
     },
     "user_tz": -60
    },
    "id": "-Q_Mc6ohDXFF",
    "outputId": "7e9aff92-f22f-4272-ca58-e923a2edfe88"
   },
   "outputs": [
    {
     "name": "stdout",
     "output_type": "stream",
     "text": [
      "Mounted at /content/drive\n"
     ]
    }
   ],
   "source": [
    "#import drive dir\n",
    "from google.colab import drive\n",
    "drive.mount('/content/drive')"
   ]
  },
  {
   "cell_type": "code",
   "execution_count": 8,
   "metadata": {
    "colab": {
     "base_uri": "https://localhost:8080/"
    },
    "executionInfo": {
     "elapsed": 3702,
     "status": "ok",
     "timestamp": 1641723464984,
     "user": {
      "displayName": "Antonello Manenti",
      "photoUrl": "https://lh3.googleusercontent.com/a/default-user=s64",
      "userId": "17495113583668482416"
     },
     "user_tz": -60
    },
    "id": "ZJi6-7tEuFIm",
    "outputId": "1dd8a571-61c8-4876-ae29-6393540e419e"
   },
   "outputs": [
    {
     "name": "stdout",
     "output_type": "stream",
     "text": [
      "Requirement already satisfied: seaborn in /usr/local/lib/python3.7/dist-packages (0.11.2)\n",
      "Requirement already satisfied: pandas>=0.23 in /usr/local/lib/python3.7/dist-packages (from seaborn) (1.1.5)\n",
      "Requirement already satisfied: numpy>=1.15 in /usr/local/lib/python3.7/dist-packages (from seaborn) (1.19.5)\n",
      "Requirement already satisfied: matplotlib>=2.2 in /usr/local/lib/python3.7/dist-packages (from seaborn) (3.2.2)\n",
      "Requirement already satisfied: scipy>=1.0 in /usr/local/lib/python3.7/dist-packages (from seaborn) (1.4.1)\n",
      "Requirement already satisfied: cycler>=0.10 in /usr/local/lib/python3.7/dist-packages (from matplotlib>=2.2->seaborn) (0.11.0)\n",
      "Requirement already satisfied: pyparsing!=2.0.4,!=2.1.2,!=2.1.6,>=2.0.1 in /usr/local/lib/python3.7/dist-packages (from matplotlib>=2.2->seaborn) (3.0.6)\n",
      "Requirement already satisfied: kiwisolver>=1.0.1 in /usr/local/lib/python3.7/dist-packages (from matplotlib>=2.2->seaborn) (1.3.2)\n",
      "Requirement already satisfied: python-dateutil>=2.1 in /usr/local/lib/python3.7/dist-packages (from matplotlib>=2.2->seaborn) (2.8.2)\n",
      "Requirement already satisfied: pytz>=2017.2 in /usr/local/lib/python3.7/dist-packages (from pandas>=0.23->seaborn) (2018.9)\n",
      "Requirement already satisfied: six>=1.5 in /usr/local/lib/python3.7/dist-packages (from python-dateutil>=2.1->matplotlib>=2.2->seaborn) (1.15.0)\n"
     ]
    }
   ],
   "source": [
    "!pip install seaborn"
   ]
  },
  {
   "cell_type": "code",
   "execution_count": 1,
   "metadata": {
    "colab": {
     "base_uri": "https://localhost:8080/"
    },
    "executionInfo": {
     "elapsed": 12,
     "status": "ok",
     "timestamp": 1641733732899,
     "user": {
      "displayName": "Antonello Manenti",
      "photoUrl": "https://lh3.googleusercontent.com/a/default-user=s64",
      "userId": "17495113583668482416"
     },
     "user_tz": -60
    },
    "id": "NBegBUDX9HK_",
    "outputId": "0f6b5220-43bc-4091-966a-11560584b649"
   },
   "outputs": [
    {
     "name": "stdout",
     "output_type": "stream",
     "text": [
      "Python 3.10.1\n"
     ]
    }
   ],
   "source": [
    "!python --version"
   ]
  },
  {
   "cell_type": "code",
   "execution_count": 3,
   "metadata": {
    "executionInfo": {
     "elapsed": 885,
     "status": "ok",
     "timestamp": 1641723292425,
     "user": {
      "displayName": "Antonello Manenti",
      "photoUrl": "https://lh3.googleusercontent.com/a/default-user=s64",
      "userId": "17495113583668482416"
     },
     "user_tz": -60
    },
    "id": "0U1nbl62VMb4"
   },
   "outputs": [
    {
     "ename": "ModuleNotFoundError",
     "evalue": "No module named 'tqdm'",
     "output_type": "error",
     "traceback": [
      "\u001b[1;31m---------------------------------------------------------------------------\u001b[0m",
      "\u001b[1;31mModuleNotFoundError\u001b[0m                       Traceback (most recent call last)",
      "\u001b[1;32mC:\\Users\\ANTONE~1\\AppData\\Local\\Temp/ipykernel_9892/2026616884.py\u001b[0m in \u001b[0;36m<module>\u001b[1;34m\u001b[0m\n\u001b[0;32m      7\u001b[0m \u001b[1;32mimport\u001b[0m \u001b[0mwarnings\u001b[0m\u001b[1;33m\u001b[0m\u001b[1;33m\u001b[0m\u001b[0m\n\u001b[0;32m      8\u001b[0m \u001b[0mwarnings\u001b[0m\u001b[1;33m.\u001b[0m\u001b[0mfilterwarnings\u001b[0m\u001b[1;33m(\u001b[0m\u001b[1;34m'ignore'\u001b[0m\u001b[1;33m)\u001b[0m\u001b[1;33m\u001b[0m\u001b[1;33m\u001b[0m\u001b[0m\n\u001b[1;32m----> 9\u001b[1;33m \u001b[1;32mfrom\u001b[0m \u001b[0mtqdm\u001b[0m\u001b[1;33m.\u001b[0m\u001b[0mnotebook\u001b[0m \u001b[1;32mimport\u001b[0m \u001b[0mtqdm\u001b[0m\u001b[1;33m\u001b[0m\u001b[1;33m\u001b[0m\u001b[0m\n\u001b[0m\u001b[0;32m     10\u001b[0m \u001b[1;32mimport\u001b[0m \u001b[0mnumpy\u001b[0m \u001b[1;32mas\u001b[0m \u001b[0mnp\u001b[0m\u001b[1;33m\u001b[0m\u001b[1;33m\u001b[0m\u001b[0m\n\u001b[0;32m     11\u001b[0m \u001b[1;32mimport\u001b[0m \u001b[0mpandas\u001b[0m \u001b[1;32mas\u001b[0m \u001b[0mpd\u001b[0m\u001b[1;33m\u001b[0m\u001b[1;33m\u001b[0m\u001b[0m\n",
      "\u001b[1;31mModuleNotFoundError\u001b[0m: No module named 'tqdm'"
     ]
    }
   ],
   "source": [
    "# import lib\n",
    "import seaborn as sns\n",
    "from matplotlib import pyplot as plt\n",
    "import math\n",
    "import os\n",
    "import glob\n",
    "import warnings\n",
    "warnings.filterwarnings('ignore')\n",
    "from tqdm.notebook import tqdm\n",
    "import numpy as np\n",
    "import pandas as pd\n",
    "pd.set_option('display.max_rows', 999)\n",
    "pd.set_option('display.max_colwidth', None)\n",
    "from IPython.display import display_html\n",
    "from itertools import chain,cycle\n",
    "sns.set('paper') #  paper, notebook, talk, poster"
   ]
  },
  {
   "cell_type": "code",
   "execution_count": 2,
   "metadata": {},
   "outputs": [
    {
     "name": "stdout",
     "output_type": "stream",
     "text": [
      "Package              Version\n",
      "-------------------- ---------\n",
      "anyio                3.4.0\n",
      "argon2-cffi          21.3.0\n",
      "argon2-cffi-bindings 21.2.0\n",
      "attrs                21.4.0\n",
      "Babel                2.9.1\n",
      "Note: you may need to restart the kernel to use updated packages.\n",
      "backcall             0.2.0\n",
      "bleach               4.1.0\n",
      "certifi              2021.10.8\n",
      "cffi                 1.15.0\n",
      "charset-normalizer   2.0.10\n",
      "colorama             0.4.4\n",
      "debugpy              1.5.1\n",
      "decorator            5.1.1\n",
      "defusedxml           0.7.1\n",
      "distlib              0.3.4\n",
      "entrypoints          0.3\n",
      "filelock             3.4.2\n",
      "idna                 3.3\n",
      "ipykernel            6.6.1\n",
      "ipython              7.31.0\n",
      "ipython-genutils     0.2.0\n",
      "jedi                 0.18.1\n",
      "Jinja2               3.0.3\n",
      "json5                0.9.6\n",
      "jsonschema           4.3.3\n",
      "jupyter-client       7.1.0\n",
      "jupyter-core         4.9.1\n",
      "jupyter-server       1.13.1\n",
      "jupyterlab           3.2.6\n",
      "jupyterlab-pygments  0.1.2\n",
      "jupyterlab-server    2.10.3\n",
      "MarkupSafe           2.0.1\n",
      "matplotlib-inline    0.1.3\n",
      "mistune              0.8.4\n",
      "nbclassic            0.3.4\n",
      "nbclient             0.5.9\n",
      "nbconvert            6.4.0\n",
      "nbformat             5.1.3\n",
      "nest-asyncio         1.5.4\n",
      "notebook             6.4.6\n",
      "packaging            21.3\n",
      "pandocfilters        1.5.0\n",
      "parso                0.8.3\n",
      "pickleshare          0.7.5\n",
      "pip                  21.3.1\n",
      "platformdirs         2.4.1\n",
      "prometheus-client    0.12.0\n",
      "prompt-toolkit       3.0.24\n",
      "pycparser            2.21\n",
      "Pygments             2.11.2\n",
      "pyparsing            3.0.6\n",
      "pyrsistent           0.18.0\n",
      "python-dateutil      2.8.2\n",
      "pytz                 2021.3\n",
      "pywin32              303\n",
      "pywinpty             1.1.6\n",
      "pyzmq                22.3.0\n",
      "requests             2.27.1\n",
      "Send2Trash           1.8.0\n",
      "setuptools           58.1.0\n",
      "six                  1.16.0\n",
      "sniffio              1.2.0\n",
      "terminado            0.12.1\n",
      "testpath             0.5.0\n",
      "tornado              6.1\n",
      "traitlets            5.1.1\n",
      "urllib3              1.26.8\n",
      "virtualenv           20.13.0\n",
      "wcwidth              0.2.5\n",
      "webencodings         0.5.1\n",
      "websocket-client     1.2.3\n"
     ]
    }
   ],
   "source": [
    "pip list"
   ]
  },
  {
   "cell_type": "code",
   "execution_count": 4,
   "metadata": {
    "colab": {
     "base_uri": "https://localhost:8080/"
    },
    "executionInfo": {
     "elapsed": 254,
     "status": "ok",
     "timestamp": 1641723328685,
     "user": {
      "displayName": "Antonello Manenti",
      "photoUrl": "https://lh3.googleusercontent.com/a/default-user=s64",
      "userId": "17495113583668482416"
     },
     "user_tz": -60
    },
    "id": "1a1at2b5VV2J",
    "outputId": "e37ef008-471d-48f8-fc8d-57cad991ff84"
   },
   "outputs": [
    {
     "name": "stdout",
     "output_type": "stream",
     "text": [
      "[Errno 17] File exists: '/content/drive/MyDrive/infolib/'\n",
      "[Errno 17] File exists: '/content/drive/MyDrive/infolib/staging/'\n"
     ]
    }
   ],
   "source": [
    "# paths\n",
    "drive_dir = '/content/drive/MyDrive/'\n",
    "root = f'infolib/'\n",
    "try:\n",
    "  os.mkdir(f'{drive_dir}{root}')\n",
    "  print(f'New path {root} created\\n')\n",
    "except Exception as e:\n",
    "  print(e)\n",
    "staging_path = f'staging/'\n",
    "try:\n",
    "  os.mkdir(f'{drive_dir}{root}{staging_path}')\n",
    "  print(f'New path {staging_path} created\\n')\n",
    "except Exception as e:\n",
    "  print(e)\n",
    "staging = f'{drive_dir}{root}{staging_path}'"
   ]
  },
  {
   "cell_type": "code",
   "execution_count": 5,
   "metadata": {
    "executionInfo": {
     "elapsed": 2387,
     "status": "ok",
     "timestamp": 1641723333188,
     "user": {
      "displayName": "Antonello Manenti",
      "photoUrl": "https://lh3.googleusercontent.com/a/default-user=s64",
      "userId": "17495113583668482416"
     },
     "user_tz": -60
    },
    "id": "6ZVPEr8PV_W3"
   },
   "outputs": [],
   "source": [
    "# import file to pandas\n",
    "df_01 = 'Chess_games_stats.csv'\n",
    "df_02 = 'Conaf_Data_Chile_2017.csv'\n",
    "df_03 = 'Student_Marks.csv'\n",
    "df_04 = 'basic1.csv'\n",
    "df_05 = 'data.csv'\n",
    "df_06 = 'imdb_MOVIES.csv'\n",
    "df_07 = 'xAPI_Edu_Data.csv'\n",
    "\n",
    "# aggiungere titanic, petal, serie false e true, serie temporali\n",
    "\n",
    "df_01 = pd.read_csv(f'{staging}{df_01}', index_col=[0])\n",
    "df_02 = pd.read_csv(f'{staging}{df_02}', index_col=[0])\n",
    "df_03 = pd.read_csv(f'{staging}{df_03}', index_col=[0])\n",
    "df_04 = pd.read_csv(f'{staging}{df_04}', index_col=[0])\n",
    "df_05 = pd.read_csv(f'{staging}{df_05}', index_col=[0])\n",
    "df_06 = pd.read_csv(f'{staging}{df_06}', index_col=[0])\n",
    "df_07 = pd.read_csv(f'{staging}{df_07}', index_col=[0])\n",
    "\n",
    "df_list=[df_01, df_02, df_03, df_04, df_05, df_06, df_07]"
   ]
  },
  {
   "cell_type": "code",
   "execution_count": 189,
   "metadata": {
    "executionInfo": {
     "elapsed": 1150,
     "status": "ok",
     "timestamp": 1641690717895,
     "user": {
      "displayName": "Antonello Manenti",
      "photoUrl": "https://lh3.googleusercontent.com/a/default-user=s64",
      "userId": "17495113583668482416"
     },
     "user_tz": -60
    },
    "id": "99C4EtSWihmA"
   },
   "outputs": [],
   "source": [
    "# infolib\n",
    "def infolib(dataframe, series=None):\n",
    "\n",
    "  def convert_size(size_bytes):\n",
    "    if size_bytes == 0:\n",
    "      return \"0B\"\n",
    "    size_name = (\"B\", \"KB\", \"MB\", \"GB\", \"TB\", \"PB\", \"EB\", \"ZB\", \"YB\")\n",
    "    i = int(math.floor(math.log(size_bytes, 1024)))\n",
    "    p = math.pow(1024, i)\n",
    "    s = round(size_bytes / p, 2)\n",
    "    return \"%s %s\" % (s, size_name[i])\n",
    "\n",
    "  def get_df_name(dataframe):\n",
    "    name =[x for x in globals() if globals()[x] is dataframe][0]\n",
    "    return name\n",
    "  \n",
    "  def display_side_by_side(*args,titles=cycle([''])):\n",
    "    html_str=''\n",
    "    for df,title in zip(args, chain(titles,cycle(['</br>'])) ):\n",
    "        html_str+='<th style=\"text-align:center\"><td style=\"vertical-align:top\">'\n",
    "        html_str+=f'<h4>{title}</h4>'\n",
    "        html_str+=df.to_html().replace('table','table style=\"display:inline\"')\n",
    "        html_str+='</td></th></br></br>'\n",
    "    display_html(html_str,raw=True)\n",
    "    return\n",
    "\n",
    "  if isinstance(dataframe, pd.DataFrame)==False:\n",
    "    print(f\"This function expects PandasDataframe argument. {get_df_name(dataframe)} is not a valid argument.\\nTry infolib(PandasDataframe) for info about {get_df_name(dataframe)} or infolib(PandasDataframe, 'column_name') for info about fature 'column_name in {get_df_name(dataframe)}'\")\n",
    "  else:\n",
    "    if isinstance(dataframe, pd.DataFrame)==True and series is None:\n",
    "      print(f'infolib(PandasDataFrame) for info about your DataFrame {get_df_name(dataframe)}')\n",
    "\n",
    "      try:\n",
    "\n",
    "          Df_desc = {'dataset': [], 'columns': [], 'rows': [], 'row_duplicate':[], 'row_unique':[], 'row_whitout_NaN': [], 'row_whit_NaN':[], 'memory_usage':[]}\n",
    "\n",
    "          namedf=get_df_name(dataframe)\n",
    "          Df_desc['dataset'].append(namedf)\n",
    "\n",
    "          a=len(dataframe.columns)\n",
    "          Df_desc['columns'].append(a)\n",
    "          \n",
    "          b=len(dataframe.index)\n",
    "          Df_desc['rows'].append(b)\n",
    "          \n",
    "          c=len(dataframe.index)-len(dataframe.drop_duplicates())\n",
    "          Df_desc['row_duplicate'].append(c)\n",
    "          \n",
    "          c=len(dataframe.index)-(len(dataframe.index)-len(dataframe.drop_duplicates()))\n",
    "          Df_desc['row_unique'].append(c)\n",
    "          \n",
    "          d = len(dataframe.index)-dataframe.isna().sum().sum()\n",
    "          Df_desc['row_whitout_NaN'].append(d)\n",
    "          \n",
    "          e = dataframe.isna().sum().sum()\n",
    "          Df_desc['row_whit_NaN'].append(e)\n",
    "\n",
    "          ea = dataframe.memory_usage(deep=True).sum()\n",
    "          ea=convert_size(ea)\n",
    "          Df_desc['memory_usage'].append(ea)\n",
    "\n",
    "          DataFrames=pd.DataFrame.from_dict(Df_desc, orient='columns')\n",
    "          DataFrames=DataFrames.set_index('dataset')\n",
    "          DataFrames.index.name = None\n",
    "\n",
    "          Tot_desc_num = {'feature_name': [], 'dtypes': [], 'count_not_NaN': [], 'count_NaN': [], 'unique':[],\n",
    "                      'mean':[], 'std':[], 'min':[], 'max':[], '25%':[], '50%':[], '75%':[]}\n",
    "          Tot_desc_cat = {'feature_name': [], 'dtypes': [], 'count_not_NaN': [], 'count_NaN': [], 'unique':[],\n",
    "                      'top':[], 'freq':[]}\n",
    "            \n",
    "          for i in dataframe.columns:\n",
    "            a=dataframe[i].dtypes\n",
    "            \n",
    "            if (a == int) or (a == float):\n",
    "              Tot_desc_num['feature_name'].append(i)\n",
    "              \n",
    "              a=dataframe[i].dtypes\n",
    "              Tot_desc_num['dtypes'].append(a)\n",
    "              \n",
    "              b=dataframe[i].count()\n",
    "              Tot_desc_num['count_not_NaN'].append(b)\n",
    "              \n",
    "              c=dataframe[i].isna().sum()\n",
    "              Tot_desc_num['count_NaN'].append(c)\n",
    "              \n",
    "              d = dataframe[i].nunique()\n",
    "              Tot_desc_num['unique'].append(d)\n",
    "              \n",
    "              e=round(dataframe[i].mean(),3)\n",
    "              Tot_desc_num['mean'].append(e)\n",
    "              \n",
    "              f=round(dataframe[i].std(),3)\n",
    "              Tot_desc_num['std'].append(f)\n",
    "              \n",
    "              g=round(dataframe[i].min(),3)\n",
    "              Tot_desc_num['min'].append(g)\n",
    "              \n",
    "              h=round(dataframe[i].max(),3)\n",
    "              Tot_desc_num['max'].append(h)\n",
    "              \n",
    "              l=round(dataframe[i].quantile(0.25),3)\n",
    "              Tot_desc_num['25%'].append(l)\n",
    "              \n",
    "              m=round(dataframe[i].quantile(0.5),3)\n",
    "              Tot_desc_num['50%'].append(m)\n",
    "              \n",
    "              n=round(dataframe[i].quantile(0.75),3)\n",
    "              Tot_desc_num['75%'].append(n)\n",
    "\n",
    "            else:\n",
    "              Tot_desc_cat['feature_name'].append(i)\n",
    "              \n",
    "              a=dataframe[i].dtypes\n",
    "              Tot_desc_cat['dtypes'].append(a)\n",
    "              \n",
    "              b=dataframe[i].count()\n",
    "              Tot_desc_cat['count_not_NaN'].append(b)\n",
    "              \n",
    "              c=dataframe[i].isna().sum()\n",
    "              Tot_desc_cat['count_NaN'].append(c)\n",
    "              \n",
    "              d = dataframe[i].nunique()\n",
    "              Tot_desc_cat['unique'].append(d)\n",
    "              \n",
    "              o=dataframe[i].value_counts().idxmax()\n",
    "              Tot_desc_cat['top'].append(o)\n",
    "              \n",
    "              p=dataframe[i].value_counts()\n",
    "              q=p.iloc[0]\n",
    "              Tot_desc_cat['freq'].append(q)\n",
    "\n",
    "          Numerical_Features=pd.DataFrame.from_dict(Tot_desc_num, orient='columns')\n",
    "          Numerical_Features=Numerical_Features.set_index('feature_name')\n",
    "          Numerical_Features.index.name = None\n",
    "\n",
    "          Categorical_Features=pd.DataFrame.from_dict(Tot_desc_cat, orient='columns')\n",
    "          Categorical_Features=Categorical_Features.set_index('feature_name')     \n",
    "          Categorical_Features.index.name = None\n",
    "          \n",
    "          if not DataFrames.empty:\n",
    "            if not Numerical_Features.empty:\n",
    "              if not Categorical_Features.empty:\n",
    "                display_side_by_side(DataFrames, Numerical_Features, Categorical_Features, titles=['DataFrame','Numeric Features', 'Categorical Features'])\n",
    "\n",
    "          if not DataFrames.empty:\n",
    "            if not Numerical_Features.empty:\n",
    "              if Categorical_Features.empty:\n",
    "                display_side_by_side(DataFrames, Numerical_Features, titles=['DataFrame','Numeric Features'])\n",
    "\n",
    "          if not DataFrames.empty:\n",
    "            if Numerical_Features.empty:\n",
    "              if not Categorical_Features.empty:\n",
    "                display_side_by_side(DataFrames, Categorical_Features, titles=['DataFrame', 'Categorical Features'])\n",
    "\n",
    "      except:\n",
    "      \n",
    "        print(f'Error in your PandasDataframe')\n",
    "        print(e)\n",
    "    \n",
    "    else:\n",
    "      if isinstance(dataframe, pd.DataFrame)==True and isinstance(series, str)==True:\n",
    "        var_desc_num = {'feature_name': [], 'dtypes': [], 'count': [], 'unique': [], 'NaN':[],\n",
    "                      'mean':[], 'mode':[],'median':[], 'std':[], 'min':[], 'max':[], 'sample':[]}\n",
    "        var_desc_cat = {'feature_name': [], 'dtypes': [], 'count_not_NaN': [], 'count_NaN': [], 'unique':[],\n",
    "                      'top':[], 'freq':[],'sample':[]}\n",
    "        a=dataframe[series].dtypes    \n",
    "        if (a == int) or (a == float): # num\n",
    "          try:\n",
    "            print(f'Qui numeriche')\n",
    "            var_desc_num['feature_name'].append(series)\n",
    "\n",
    "            var_desc_num['dtypes'].append(a)\n",
    "            \n",
    "            b=dataframe[series].count()\n",
    "            var_desc_num['count'].append(b)\n",
    "            \n",
    "            c=dataframe[series].isna().sum()\n",
    "            var_desc_num['NaN'].append(c)\n",
    "            \n",
    "            d = dataframe[series].nunique()\n",
    "            var_desc_num['unique'].append(d)\n",
    "            \n",
    "            e=round(dataframe[series].mean(),3)\n",
    "            var_desc_num['mean'].append(e)\n",
    "\n",
    "            e=dataframe[series].mode()[0]\n",
    "            var_desc_num['mode'].append(e)\n",
    "\n",
    "            e=dataframe[series].median()\n",
    "            var_desc_num['median'].append(e)\n",
    "            \n",
    "            f=round(dataframe[series].std(),3)\n",
    "            var_desc_num['std'].append(f)\n",
    "            \n",
    "            g=round(dataframe[series].min(),3)\n",
    "            var_desc_num['min'].append(g)\n",
    "            \n",
    "            h=round(dataframe[series].max(),3)\n",
    "            var_desc_num['max'].append(h)\n",
    "            \n",
    "            l=dataframe[series].sample(1)[0]\n",
    "            var_desc_num['sample'].append(l)\n",
    "            \n",
    "\n",
    "\n",
    "\n",
    "\n",
    "\n",
    "            var_desc_num=pd.DataFrame.from_dict(var_desc_num, orient='columns')\n",
    "            var_desc_num=var_desc_num.set_index('feature_name')     \n",
    "            var_desc_num.index.name = None\n",
    "            display_side_by_side(var_desc_num, titles=[f'Feature Num.'])\n",
    "\n",
    "            f, (ax_box, ax_hist) = plt.subplots(2, sharex=True, figsize=(9,6), gridspec_kw= {\"height_ratios\": (0.2, 1)})\n",
    "            plt.subplots_adjust(hspace=0.05)\n",
    "            mean=dataframe[series].mean()\n",
    "            median=dataframe[series].median()\n",
    "            mode=dataframe[series].mode().values[0]\n",
    "\n",
    "            sns.boxplot(data=dataframe, x=series, ax=ax_box)\n",
    "            ax_box.axvline(mean, color='r', linestyle='--')\n",
    "            ax_box.axvline(median, color='g', linestyle='-')\n",
    "            ax_box.axvline(mode, color='b', linestyle='-')\n",
    "\n",
    "            sns.histplot(data=dataframe, x=series, ax=ax_hist, kde=True)\n",
    "            ax_hist.axvline(mean, color='r', linestyle='--', label=\"Mean\")\n",
    "            ax_hist.axvline(median, color='g', linestyle='-', label=\"Median\")\n",
    "            ax_hist.axvline(mode, color='b', linestyle='-', label=\"Mode\")\n",
    "\n",
    "            ax_hist.legend()\n",
    "\n",
    "            ax_box.set(xlabel='')\n",
    "            plt.show()\n",
    "\n",
    "\n",
    "            \n",
    "\n",
    "          except:\n",
    "            print(f'Series is not in columns è dataframe giusto e series stringa ma non è una colonna del df')\n",
    "            print(e)\n",
    "        \n",
    "        else: # cat\n",
    "          \n",
    "          try:\n",
    "            print('qui categoriche')\n",
    "\n",
    "            var_desc_cat['feature_name'].append(series)\n",
    "\n",
    "            var_desc_cat['dtypes'].append(a)\n",
    "            \n",
    "            b=dataframe[series].count()\n",
    "            var_desc_cat['count_not_NaN'].append(b)\n",
    "            \n",
    "            c=dataframe[series].isna().sum()\n",
    "            var_desc_cat['count_NaN'].append(c)\n",
    "            \n",
    "            d = dataframe[series].nunique()\n",
    "            var_desc_cat['unique'].append(d)\n",
    "            \n",
    "            e=dataframe[series].value_counts().idxmax()\n",
    "            var_desc_cat['top'].append(e)\n",
    "\n",
    "            p=dataframe[series].value_counts()\n",
    "            e=p.iloc[0]\n",
    "            var_desc_cat['freq'].append(e)\n",
    "\n",
    "            e=dataframe[series].sample(1)[0]\n",
    "            var_desc_cat['sample'].append(e)\n",
    "            \n",
    "\n",
    "\n",
    "            var_desc_cat=pd.DataFrame.from_dict(var_desc_cat, orient='columns')\n",
    "            var_desc_cat=var_desc_cat.set_index('feature_name')     \n",
    "            var_desc_cat.index.name = None\n",
    "            display_side_by_side(var_desc_cat, titles=[f'Feature cat.'])\n",
    "\n",
    "\n",
    "            # # titolo\n",
    "            # # colonne: nome variabile, dtype, Unicode, count, unique, NaN, min, max, std, Mean, mode, mediana, sum, sample\n",
    "            # # forse anche max len e min len!\n",
    "\n",
    "\n",
    "\n",
    "            f, (ax_box, ax_hist) = plt.subplots(2, sharex=True, figsize=(9,6), gridspec_kw= {\"height_ratios\": (0.2, 1)})\n",
    "            plt.subplots_adjust(hspace=0.05)\n",
    "\n",
    "\n",
    "            sns.boxplot(data=dataframe, x=series, ax=ax_box)\n",
    "\n",
    "\n",
    "            sns.histplot(data=dataframe, x=series, ax=ax_hist, kde=True)\n",
    "\n",
    "\n",
    "            ax_hist.legend()\n",
    "\n",
    "            ax_box.set(xlabel='')\n",
    "            plt.show()\n",
    "          except:\n",
    "            print(f'Series is not in columns è dataframe giusto e series stringa ma non è una colonna del df')\n",
    "            print(e)\n",
    "     \n",
    "     \n",
    "     \n",
    "     \n",
    "      else:\n",
    "          print(f'Errore dataframe true ma str non è una stringa')"
   ]
  },
  {
   "cell_type": "code",
   "execution_count": 187,
   "metadata": {
    "colab": {
     "base_uri": "https://localhost:8080/",
     "height": 554
    },
    "executionInfo": {
     "elapsed": 16,
     "status": "ok",
     "timestamp": 1641690698941,
     "user": {
      "displayName": "Antonello Manenti",
      "photoUrl": "https://lh3.googleusercontent.com/a/default-user=s64",
      "userId": "17495113583668482416"
     },
     "user_tz": -60
    },
    "id": "ty_B4d3bnGA-",
    "outputId": "ae3efc62-c3c4-467c-dc2a-65b45e425dd3"
   },
   "outputs": [
    {
     "name": "stdout",
     "output_type": "stream",
     "text": [
      "infolib(PandasDataFrame) for info about your DataFrame df_04\n"
     ]
    },
    {
     "data": {
      "text/html": [
       "<th style=\"text-align:center\"><td style=\"vertical-align:top\"><h4>DataFrame</h4><table style=\"display:inline\" border=\"1\" class=\"dataframe\">\n",
       "  <thead>\n",
       "    <tr style=\"text-align: right;\">\n",
       "      <th></th>\n",
       "      <th>columns</th>\n",
       "      <th>rows</th>\n",
       "      <th>row_duplicate</th>\n",
       "      <th>row_unique</th>\n",
       "      <th>row_whitout_NaN</th>\n",
       "      <th>row_whit_NaN</th>\n",
       "      <th>memory_usage</th>\n",
       "    </tr>\n",
       "  </thead>\n",
       "  <tbody>\n",
       "    <tr>\n",
       "      <th>df_04</th>\n",
       "      <td>7</td>\n",
       "      <td>100</td>\n",
       "      <td>0</td>\n",
       "      <td>100</td>\n",
       "      <td>-26</td>\n",
       "      <td>126</td>\n",
       "      <td>32.38 KB</td>\n",
       "    </tr>\n",
       "  </tbody>\n",
       "</table style=\"display:inline\"></td></th></br></br><th style=\"text-align:center\"><td style=\"vertical-align:top\"><h4>Numeric Features</h4><table style=\"display:inline\" border=\"1\" class=\"dataframe\">\n",
       "  <thead>\n",
       "    <tr style=\"text-align: right;\">\n",
       "      <th></th>\n",
       "      <th>dtypes</th>\n",
       "      <th>count_not_NaN</th>\n",
       "      <th>count_NaN</th>\n",
       "      <th>unique</th>\n",
       "      <th>mean</th>\n",
       "      <th>std</th>\n",
       "      <th>min</th>\n",
       "      <th>max</th>\n",
       "      <th>25%</th>\n",
       "      <th>50%</th>\n",
       "      <th>75%</th>\n",
       "    </tr>\n",
       "  </thead>\n",
       "  <tbody>\n",
       "    <tr>\n",
       "      <th>age</th>\n",
       "      <td>float64</td>\n",
       "      <td>100</td>\n",
       "      <td>0</td>\n",
       "      <td>71</td>\n",
       "      <td>50.963</td>\n",
       "      <td>30.443</td>\n",
       "      <td>-13.500</td>\n",
       "      <td>100.00</td>\n",
       "      <td>26.875</td>\n",
       "      <td>52.500</td>\n",
       "      <td>77.000</td>\n",
       "    </tr>\n",
       "    <tr>\n",
       "      <th>f1</th>\n",
       "      <td>float64</td>\n",
       "      <td>69</td>\n",
       "      <td>31</td>\n",
       "      <td>43</td>\n",
       "      <td>66.043</td>\n",
       "      <td>19.454</td>\n",
       "      <td>12.000</td>\n",
       "      <td>111.00</td>\n",
       "      <td>51.000</td>\n",
       "      <td>63.000</td>\n",
       "      <td>78.000</td>\n",
       "    </tr>\n",
       "    <tr>\n",
       "      <th>f2</th>\n",
       "      <td>int64</td>\n",
       "      <td>100</td>\n",
       "      <td>0</td>\n",
       "      <td>3</td>\n",
       "      <td>0.650</td>\n",
       "      <td>0.716</td>\n",
       "      <td>0.000</td>\n",
       "      <td>2.00</td>\n",
       "      <td>0.000</td>\n",
       "      <td>1.000</td>\n",
       "      <td>1.000</td>\n",
       "    </tr>\n",
       "    <tr>\n",
       "      <th>f5</th>\n",
       "      <td>float64</td>\n",
       "      <td>100</td>\n",
       "      <td>0</td>\n",
       "      <td>20</td>\n",
       "      <td>56.735</td>\n",
       "      <td>28.454</td>\n",
       "      <td>9.796</td>\n",
       "      <td>98.43</td>\n",
       "      <td>29.270</td>\n",
       "      <td>64.113</td>\n",
       "      <td>81.025</td>\n",
       "    </tr>\n",
       "  </tbody>\n",
       "</table style=\"display:inline\"></td></th></br></br><th style=\"text-align:center\"><td style=\"vertical-align:top\"><h4>Categorical Features</h4><table style=\"display:inline\" border=\"1\" class=\"dataframe\">\n",
       "  <thead>\n",
       "    <tr style=\"text-align: right;\">\n",
       "      <th></th>\n",
       "      <th>dtypes</th>\n",
       "      <th>count_not_NaN</th>\n",
       "      <th>count_NaN</th>\n",
       "      <th>unique</th>\n",
       "      <th>top</th>\n",
       "      <th>freq</th>\n",
       "    </tr>\n",
       "  </thead>\n",
       "  <tbody>\n",
       "    <tr>\n",
       "      <th>city</th>\n",
       "      <td>object</td>\n",
       "      <td>100</td>\n",
       "      <td>0</td>\n",
       "      <td>4</td>\n",
       "      <td>경기</td>\n",
       "      <td>41</td>\n",
       "    </tr>\n",
       "    <tr>\n",
       "      <th>f3</th>\n",
       "      <td>object</td>\n",
       "      <td>5</td>\n",
       "      <td>95</td>\n",
       "      <td>1</td>\n",
       "      <td>vip</td>\n",
       "      <td>5</td>\n",
       "    </tr>\n",
       "    <tr>\n",
       "      <th>f4</th>\n",
       "      <td>object</td>\n",
       "      <td>100</td>\n",
       "      <td>0</td>\n",
       "      <td>16</td>\n",
       "      <td>ESTP</td>\n",
       "      <td>11</td>\n",
       "    </tr>\n",
       "  </tbody>\n",
       "</table style=\"display:inline\"></td></th></br></br>"
      ]
     },
     "metadata": {},
     "output_type": "display_data"
    }
   ],
   "source": [
    "infolib(df_04)"
   ]
  },
  {
   "cell_type": "code",
   "execution_count": 188,
   "metadata": {
    "colab": {
     "base_uri": "https://localhost:8080/",
     "height": 551
    },
    "executionInfo": {
     "elapsed": 508,
     "status": "ok",
     "timestamp": 1641690699925,
     "user": {
      "displayName": "Antonello Manenti",
      "photoUrl": "https://lh3.googleusercontent.com/a/default-user=s64",
      "userId": "17495113583668482416"
     },
     "user_tz": -60
    },
    "id": "vSUZeATADzXD",
    "outputId": "db79b0ff-86d9-4638-eb7e-c68fd3793b66"
   },
   "outputs": [
    {
     "name": "stdout",
     "output_type": "stream",
     "text": [
      "qui categoriche\n"
     ]
    },
    {
     "data": {
      "text/html": [
       "<th style=\"text-align:center\"><td style=\"vertical-align:top\"><h4>Feature cat.</h4><table style=\"display:inline\" border=\"1\" class=\"dataframe\">\n",
       "  <thead>\n",
       "    <tr style=\"text-align: right;\">\n",
       "      <th></th>\n",
       "      <th>dtypes</th>\n",
       "      <th>count_not_NaN</th>\n",
       "      <th>count_NaN</th>\n",
       "      <th>unique</th>\n",
       "      <th>top</th>\n",
       "      <th>freq</th>\n",
       "      <th>sample</th>\n",
       "    </tr>\n",
       "  </thead>\n",
       "  <tbody>\n",
       "    <tr>\n",
       "      <th>f4</th>\n",
       "      <td>object</td>\n",
       "      <td>100</td>\n",
       "      <td>0</td>\n",
       "      <td>16</td>\n",
       "      <td>ESTP</td>\n",
       "      <td>11</td>\n",
       "      <td>ENTP</td>\n",
       "    </tr>\n",
       "  </tbody>\n",
       "</table style=\"display:inline\"></td></th></br></br>"
      ]
     },
     "metadata": {},
     "output_type": "display_data"
    },
    {
     "name": "stdout",
     "output_type": "stream",
     "text": [
      "Series is not in columns è dataframe giusto e series stringa ma non è una colonna del df\n",
      "ENTP\n"
     ]
    },
    {
     "data": {
      "image/png": "[encoded data removed]",
      "text/plain": [
       "<Figure size 648x432 with 2 Axes>"
      ]
     },
     "metadata": {},
     "output_type": "display_data"
    }
   ],
   "source": [
    "infolib(df_04, \"f4\")"
   ]
  },
  {
   "cell_type": "code",
   "execution_count": 118,
   "metadata": {
    "colab": {
     "base_uri": "https://localhost:8080/"
    },
    "executionInfo": {
     "elapsed": 470,
     "status": "ok",
     "timestamp": 1641689152671,
     "user": {
      "displayName": "Antonello Manenti",
      "photoUrl": "https://lh3.googleusercontent.com/a/default-user=s64",
      "userId": "17495113583668482416"
     },
     "user_tz": -60
    },
    "id": "f5asU3YrSyMR",
    "outputId": "8531cebd-7f51-4ba3-b3b1-64526c95edcc"
   },
   "outputs": [
    {
     "data": {
      "text/plain": [
       "75.0"
      ]
     },
     "execution_count": 118,
     "metadata": {},
     "output_type": "execute_result"
    }
   ],
   "source": [
    "df_04[\"age\"].mode()[0]"
   ]
  },
  {
   "cell_type": "code",
   "execution_count": 104,
   "metadata": {
    "executionInfo": {
     "elapsed": 3,
     "status": "ok",
     "timestamp": 1641689018099,
     "user": {
      "displayName": "Antonello Manenti",
      "photoUrl": "https://lh3.googleusercontent.com/a/default-user=s64",
      "userId": "17495113583668482416"
     },
     "user_tz": -60
    },
    "id": "1hMaDHUEhZRl"
   },
   "outputs": [],
   "source": [
    "a=df_02[['long', 'lat', 'temporada']]\n",
    "b=df_02['long']\n",
    "c=df_02['lat']\n",
    "d=1\n",
    "e='lat'\n",
    "f='rut'"
   ]
  },
  {
   "cell_type": "code",
   "execution_count": null,
   "metadata": {
    "id": "wGsk17X2F52O"
   },
   "outputs": [],
   "source": []
  },
  {
   "cell_type": "code",
   "execution_count": null,
   "metadata": {
    "id": "uGwvHt5lDKET"
   },
   "outputs": [],
   "source": []
  },
  {
   "cell_type": "code",
   "execution_count": null,
   "metadata": {
    "colab": {
     "base_uri": "https://localhost:8080/",
     "height": 307
    },
    "executionInfo": {
     "elapsed": 490,
     "status": "ok",
     "timestamp": 1641583238647,
     "user": {
      "displayName": "Antonello Manenti",
      "photoUrl": "https://lh3.googleusercontent.com/a/default-user=s64",
      "userId": "17495113583668482416"
     },
     "user_tz": -60
    },
    "id": "xLW1NLUawOVb",
    "outputId": "1cda4858-ccf0-474f-f515-cd5bc980918b"
   },
   "outputs": [
    {
     "data": {
      "text/plain": [
       "<matplotlib.axes._subplots.AxesSubplot at 0x7f1f17f37f50>"
      ]
     },
     "execution_count": 15,
     "metadata": {},
     "output_type": "execute_result"
    },
    {
     "data": {
      "image/png": "[encoded data removed]",
      "text/plain": [
       "<Figure size 432x288 with 1 Axes>"
      ]
     },
     "metadata": {
      "needs_background": "light"
     },
     "output_type": "display_data"
    }
   ],
   "source": [
    "# data = pd.DataFrame(data_set['mpg'])\n",
    "sns.distplot(a[e], kde=True)"
   ]
  }
 ],
 "metadata": {
  "colab": {
   "authorship_tag": "ABX9TyN+teP1zC6w2dzJgqP1H6Fo",
   "collapsed_sections": [],
   "name": "infolib.ipynb",
   "provenance": []
  },
  "kernelspec": {
   "display_name": "Python 3 (ipykernel)",
   "language": "python",
   "name": "python3"
  },
  "language_info": {
   "codemirror_mode": {
    "name": "ipython",
    "version": 3
   },
   "file_extension": ".py",
   "mimetype": "text/x-python",
   "name": "python",
   "nbconvert_exporter": "python",
   "pygments_lexer": "ipython3",
   "version": "3.10.1"
  }
 },
 "nbformat": 4,
 "nbformat_minor": 4
}
